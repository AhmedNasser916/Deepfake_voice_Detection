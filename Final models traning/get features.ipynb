{
 "cells": [
  {
   "cell_type": "code",
   "execution_count": 3,
   "metadata": {},
   "outputs": [],
   "source": [
    "import os\n",
    "import pandas as pd\n",
    "from tqdm import tqdm\n",
    "import librosa\n",
    "import numpy as np\n",
    "def create_mfcc_dataframe(real_folder_path, fake_folder_path):\n",
    "    # Function to extract MFCC features\n",
    "    def features_extractor(file):\n",
    "        audio, sample_rate = librosa.load(file, res_type='kaiser_fast') \n",
    "        mfccs_features = librosa.feature.mfcc(y=audio, sr=sample_rate, n_mfcc=100)\n",
    "        mfccs_scaled_features = np.mean(mfccs_features.T, axis=0)\n",
    "        return mfccs_scaled_features\n",
    "\n",
    "    # Function to iterate through folder and extract features\n",
    "    def iterate_folder_and_extract_features(folder_path, label):\n",
    "        extracted_features = []\n",
    "        for file_name in tqdm(os.listdir(folder_path)):\n",
    "            file_path = os.path.join(folder_path, file_name)\n",
    "            if file_path.endswith(\".wav\"):  # Assuming the audio files are in WAV format\n",
    "                data = features_extractor(file_path)\n",
    "                extracted_features.append([data, label])\n",
    "        return extracted_features\n",
    "\n",
    "    # Extract features for real audios\n",
    "    real_features = iterate_folder_and_extract_features(real_folder_path, label=\"real\")\n",
    "\n",
    "    # Extract features for fake audios\n",
    "    fake_features = iterate_folder_and_extract_features(fake_folder_path, label=\"fake\")\n",
    "\n",
    "    # Combine real and fake features\n",
    "    all_features = real_features + fake_features\n",
    "\n",
    "    # Create DataFrame\n",
    "    df = pd.DataFrame(all_features, columns=[\"mfcc_features\", \"label\"])\n",
    "    df_expanded = pd.DataFrame(df['mfcc_features'].tolist())\n",
    "\n",
    "    # Combine the expanded MFCC columns with the original DataFrame\n",
    "    df_expanded = pd.concat([df[['label']], df_expanded], axis=1)\n",
    "\n",
    "\n",
    "    return df_expanded\n"
   ]
  },
  {
   "cell_type": "code",
   "execution_count": 4,
   "metadata": {},
   "outputs": [
    {
     "name": "stderr",
     "output_type": "stream",
     "text": [
      "  0%|          | 0/100 [00:00<?, ?it/s]"
     ]
    },
    {
     "name": "stderr",
     "output_type": "stream",
     "text": [
      "100%|██████████| 100/100 [00:07<00:00, 13.73it/s]\n",
      "100%|██████████| 97/97 [00:06<00:00, 14.12it/s]\n"
     ]
    }
   ],
   "source": [
    "real_folder_path = '..//data set waves//real'\n",
    "fake_folder_path = '..//data set waves//fake'\n",
    "\n",
    "df = create_mfcc_dataframe(real_folder_path, fake_folder_path)"
   ]
  },
  {
   "cell_type": "code",
   "execution_count": 5,
   "metadata": {},
   "outputs": [],
   "source": [
    "df.to_csv(\"data set final//100.csv\",index=False)"
   ]
  }
 ],
 "metadata": {
  "kernelspec": {
   "display_name": "gpu",
   "language": "python",
   "name": "python3"
  },
  "language_info": {
   "codemirror_mode": {
    "name": "ipython",
    "version": 3
   },
   "file_extension": ".py",
   "mimetype": "text/x-python",
   "name": "python",
   "nbconvert_exporter": "python",
   "pygments_lexer": "ipython3",
   "version": "3.7.15"
  }
 },
 "nbformat": 4,
 "nbformat_minor": 2
}
