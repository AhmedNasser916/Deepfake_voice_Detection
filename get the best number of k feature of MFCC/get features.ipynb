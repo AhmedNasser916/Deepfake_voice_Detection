{
 "cells": [
  {
   "cell_type": "code",
   "execution_count": 1,
   "metadata": {},
   "outputs": [],
   "source": [
    "import os\n",
    "import pandas as pd\n",
    "from tqdm import tqdm\n",
    "import librosa\n",
    "import numpy as np\n",
    "\n",
    "def create_mfcc_dataframe(real_folder_path, fake_folder_path,number):\n",
    "    # Function to extract MFCC features\n",
    "    def features_extractor(file):\n",
    "        audio, sample_rate = librosa.load(file, res_type='kaiser_fast') \n",
    "        mfccs_features = librosa.feature.mfcc(y=audio, sr=sample_rate, n_mfcc=number)\n",
    "        mfccs_scaled_features = np.mean(mfccs_features.T, axis=0)\n",
    "        return mfccs_scaled_features\n",
    "\n",
    "    # Function to iterate through folder and extract features\n",
    "    def iterate_folder_and_extract_features(folder_path, label):\n",
    "        extracted_features = []\n",
    "        for file_name in tqdm(os.listdir(folder_path)):\n",
    "            file_path = os.path.join(folder_path, file_name)\n",
    "            if file_path.endswith(\".wav\"):  # Assuming the audio files are in WAV format\n",
    "                data = features_extractor(file_path)\n",
    "                extracted_features.append([data, label])\n",
    "        return extracted_features\n",
    "\n",
    "    # Extract features for real audios\n",
    "    real_features = iterate_folder_and_extract_features(real_folder_path, label=\"real\")\n",
    "\n",
    "    # Extract features for fake audios\n",
    "    fake_features = iterate_folder_and_extract_features(fake_folder_path, label=\"fake\")\n",
    "\n",
    "    # Combine real and fake features\n",
    "    all_features = real_features + fake_features\n",
    "\n",
    "    # Create DataFrame\n",
    "    df = pd.DataFrame(all_features, columns=[\"mfcc_features\", \"label\"])\n",
    "    df_expanded = pd.DataFrame(df['mfcc_features'].tolist())\n",
    "\n",
    "    # Combine the expanded MFCC columns with the original DataFrame\n",
    "    df_expanded = pd.concat([df[['label']], df_expanded], axis=1)\n",
    "\n",
    "\n",
    "    return df_expanded\n"
   ]
  },
  {
   "cell_type": "code",
   "execution_count": 4,
   "metadata": {},
   "outputs": [],
   "source": [
    "real_folder_path = '..//data set waves//real'\n",
    "fake_folder_path = '..///data set waves//fake'\n",
    "\n"
   ]
  },
  {
   "cell_type": "code",
   "execution_count": 6,
   "metadata": {},
   "outputs": [
    {
     "name": "stderr",
     "output_type": "stream",
     "text": [
      "  0%|          | 0/100 [00:00<?, ?it/s]"
     ]
    },
    {
     "name": "stderr",
     "output_type": "stream",
     "text": [
      "100%|██████████| 100/100 [00:01<00:00, 54.95it/s]\n",
      "100%|██████████| 97/97 [00:04<00:00, 22.99it/s]\n",
      "100%|██████████| 100/100 [00:01<00:00, 60.72it/s]\n",
      "100%|██████████| 97/97 [00:06<00:00, 14.34it/s]\n",
      "100%|██████████| 100/100 [00:02<00:00, 36.23it/s]\n",
      "100%|██████████| 97/97 [00:06<00:00, 15.86it/s]\n",
      "100%|██████████| 100/100 [00:03<00:00, 32.12it/s]\n",
      "100%|██████████| 97/97 [00:05<00:00, 17.48it/s]\n",
      "100%|██████████| 100/100 [00:02<00:00, 40.03it/s]\n",
      "100%|██████████| 97/97 [00:05<00:00, 17.27it/s]\n",
      "100%|██████████| 100/100 [00:02<00:00, 41.65it/s]\n",
      "100%|██████████| 97/97 [00:06<00:00, 16.00it/s]\n"
     ]
    }
   ],
   "source": [
    "df = create_mfcc_dataframe(real_folder_path, fake_folder_path,25)\n",
    "df.to_csv(\"./25/data set//all data//df_25f.csv\",index=False)\n",
    "df = create_mfcc_dataframe(real_folder_path, fake_folder_path,40)\n",
    "df.to_csv(\"./40/data set//all data//df_40f.csv\",index=False)\n",
    "df = create_mfcc_dataframe(real_folder_path, fake_folder_path,50)\n",
    "df.to_csv(\"./50/data set//all data//df_50f.csv\",index=False)\n",
    "df = create_mfcc_dataframe(real_folder_path, fake_folder_path,75)\n",
    "df.to_csv(\"./75/data set//all data//df_75f.csv\",index=False)\n",
    "df = create_mfcc_dataframe(real_folder_path, fake_folder_path,100)\n",
    "df.to_csv(\"./100/data set//all data//df_100f.csv\",index=False)\n",
    "df = create_mfcc_dataframe(real_folder_path, fake_folder_path,128)\n",
    "df.to_csv(\"./128/data set//all data//df_128f.csv\",index=False)"
   ]
  },
  {
   "cell_type": "code",
   "execution_count": null,
   "metadata": {},
   "outputs": [],
   "source": []
  },
  {
   "cell_type": "code",
   "execution_count": null,
   "metadata": {},
   "outputs": [],
   "source": []
  }
 ],
 "metadata": {
  "kernelspec": {
   "display_name": "gpu",
   "language": "python",
   "name": "python3"
  },
  "language_info": {
   "codemirror_mode": {
    "name": "ipython",
    "version": 3
   },
   "file_extension": ".py",
   "mimetype": "text/x-python",
   "name": "python",
   "nbconvert_exporter": "python",
   "pygments_lexer": "ipython3",
   "version": "3.7.15"
  }
 },
 "nbformat": 4,
 "nbformat_minor": 2
}
